{
 "cells": [
  {
   "cell_type": "markdown",
   "metadata": {},
   "source": [
    "## IMPORTING PACKAGES"
   ]
  },
  {
   "cell_type": "code",
   "execution_count": 1,
   "metadata": {},
   "outputs": [],
   "source": [
    "# Importing packages\n",
    "import pandas as pd\n",
    "import matplotlib.pyplot as plt\n",
    "import numpy as np\n",
    "import math\n",
    "import pylab\n",
    "import stemgraphic\n",
    "from IPython.display import Markdown"
   ]
  },
  {
   "cell_type": "markdown",
   "metadata": {},
   "source": [
    "## FUNCTIONS"
   ]
  },
  {
   "cell_type": "code",
   "execution_count": 2,
   "metadata": {},
   "outputs": [],
   "source": [
    "# Getting student_number\n",
    "def getting_student_number():\n",
    "    \n",
    "    while(True):\n",
    "        try:\n",
    "            student_number = int(input(\"Student Number: \"))\n",
    "            break\n",
    "        except:\n",
    "            print(\"The Student Number must be integer\")\n",
    "            continue\n",
    "    return student_number\n",
    "\n",
    "\n",
    "# Reading excel files\n",
    "def reading_excel_files(file_name,student_number):\n",
    "    \n",
    "    student_data = pd.read_excel(file_name,sheet_name=1)\n",
    "    all_data = pd.read_excel(file_name,sheet_name=0)\n",
    "    student = student_data[student_data[\"Student Number\"] == student_number]\n",
    "    student_name =[str(x) for x in student.iloc[0,:]][2]\n",
    "    my_data = all_data.loc[:,[\"V\"+str(int(student[\"Order\"]))]]\n",
    "    return student_name,my_data\n",
    "    #class_number = 6\n",
    "    \n",
    "def create_frequency_table(my_data,class_number,max_value,min_value):\n",
    "    \n",
    "    class_range = float((max_value-min_value+0.1)/class_number)\n",
    "    dict = {\"class_number\":[i for i in range(1,class_number+1)],\n",
    "            \"lower limit\":[float(\"{:.2f}\".format(i)) for i in np.arange(min_value,max_value,class_range)],\n",
    "            \"upper limit\":[float(\"{:.2f}\".format(i)) for i in np.arange(min_value+class_range-0.1,max_value+class_range,class_range)]\n",
    "           }\n",
    "    frequency_table = pd.DataFrame(dict)\n",
    "    frequency_table[\"class_mean\"] = [ (row[1]+row[0])/2 for row in frequency_table[[\"lower limit\",\"upper limit\"]].values]\n",
    "    frequency = [0 for i in range(6)]\n",
    "    for row in my_data.values:\n",
    "        if(math.ceil(float((row-min_value)/(class_range-0.1)))-1==class_number):\n",
    "            frequency[math.ceil(float((row-min_value)/(class_range-0.1)))-2 ] += 1\n",
    "        else:\n",
    "            if row-min_value == 0:\n",
    "                frequency[0] += 1\n",
    "            else:\n",
    "                frequency[math.ceil(float((row-min_value)/(class_range-0.1)))-1] += 1\n",
    "    frequency_table[\"frequency\"] = frequency\n",
    "    print(frequency_table)\n",
    "    return frequency_table\n",
    "\n",
    "    \n",
    "# MARKDOWNSS ***********************************\n",
    "# Data Decription   \n",
    "\n",
    "\n",
    "# Introduction Markdown\n",
    "def introduction_markdown(student_number,student_name):\n",
    "    \n",
    "    markdown_tuple = Markdown(\"# INTRODUCTION\"),Markdown(\"\"\"\n",
    "    * Student name : {student_name}\n",
    "    * Student number : {student_number}\n",
    "    * This notebook is for Statistic Homework is done by using Python libraries\n",
    "    \"\"\".format(student_name=student_name, student_number=student_number))\n",
    "    display_markdown(markdown_tuple)\n",
    "\n",
    "def frequency_table_markdown(my_data,class_number):\n",
    "    \n",
    "    min_value = float(my_data.min())\n",
    "    max_value = float(my_data.max())\n",
    "    markdown_tuple = Markdown(\"# FREQUENCY TABLE CREATING\"),Markdown(\"\"\"\n",
    "    * Maximum value : {}\n",
    "    * Minimum value : {}\n",
    "    * Range         : {} - {} = {}\n",
    "    * Class range   : (range+0.1)/class_number) = ({}+0.1)/{} = {}\n",
    "    \"\"\".format(max_value,min_value,max_value,min_value,max_value-min_value,max_value-min_value,class_number,(max_value-min_value+0.1)/class_number))\n",
    "    display_markdown(markdown_tuple)\n",
    "    return create_frequency_table(my_data,class_number,max_value,min_value)\n",
    "  \n",
    "def display_markdown(name):\n",
    "    for i in name:\n",
    "        display(i)"
   ]
  },
  {
   "cell_type": "code",
   "execution_count": 11,
   "metadata": {},
   "outputs": [],
   "source": [
    "def create_boxplot_markdown(my_data):\n",
    "    \n",
    "    boxplot = Markdown(\"### Boxplot\")\n",
    "    quantiles = my_data.iloc[:,0].quantile([0.25,0.5,0.75])\n",
    "    \n",
    "    if  (quantiles.values[1] - quantiles.values[0]) > (quantiles.values[2]-quantiles.values[1]):\n",
    "        explanation = Markdown(\"Seeing below graph , can be said range between Q2 and Q1 is more range between Q3 and Q2 , so again we can say left skewed data.\")\n",
    "    elif (quantiles.values[1] - quantiles.values[0]) < (quantiles.values[2]-quantiles.values[1]):\n",
    "        explanation = Markdown(\"Seeing below graph , can be said range between Q2 and Q1 is less range between Q3 and Q2 , so again we can say left skewed data.\")\n",
    "    else:\n",
    "        explanation = Markdown(\"Seeing below graph , can be said range between Q2 and Q1 is equal range between Q3 and Q2 , so again we can say normal data.\")\n",
    "\n",
    "    return boxplot,explanation\n",
    "\n",
    "def create_boxplot(my_data):\n",
    "    \n",
    "    graph_title = Markdown(\"# GRAPHS OF DATA\")\n",
    "    boxplot , boxplot_explanation = create_boxplot_markdown(my_data)\n",
    "    markdown_tuple = graph_title,boxplot,boxplot_explanation\n",
    "    \n",
    "    display_markdown(markdown_tuple)\n",
    "    \n",
    "    # Boxplot drawing\n",
    "    plt.figure(figsize=(7,7))\n",
    "    my_data.boxplot()\n",
    "    plt.show() \n",
    "    \n",
    "def create_scatter(frequency_table):\n",
    "    \n",
    "    frequency_title = Markdown(\"## Plot of Frequency Table ( Scatter - Histogram )\")\n",
    "    scatter = Markdown(\"### Scatter Plot\")\n",
    "    markdown_tuple = frequency_title,scatter\n",
    "    display_markdown(markdown_tuple)\n",
    "    \n",
    "    # Scatter drawing\n",
    "    a = \"\"\n",
    "    for i in [str(int(row[0]))+\"-->\"+str(row[1])+\"-\"+str(row[2])+\"\\n\" for row in frequency_table.values]:\n",
    "        a += i\n",
    "    plt.figure(figsize=(7,7))\n",
    "    plt.scatter(frequency_table.loc[:,\"class_number\"],frequency_table.loc[:,\"frequency\"],color=\"red\",label=a )\n",
    "    plt.legend()\n",
    "    plt.xlabel(\"class_number\")\n",
    "    plt.ylabel(\"frequency\")\n",
    "    plt.title(\"Relationship between name and age\")\n",
    "    plt.grid(True)\n",
    "    plt.show()\n",
    "    \n",
    "def create_steam_leaf(my_data):\n",
    "\n",
    "    steam_leaf = Markdown(\"### Steam-leaf Plot\")\n",
    "    markdown_tuple = steam_leaf,\n",
    "    display_markdown(markdown_tuple)\n",
    "    \n",
    "    stems = [ int(row/10) for row in my_data[my_data.columns[0]].values]\n",
    "    plt.figure(figsize=(7,7))\n",
    "    pylab.xlim([0,3])\n",
    "    pylab.ylim([0,30])\n",
    "    plt.title('Stem Plot(Stem and Leaf Plot)')\n",
    "    plt.xlabel('Range/Stems')\n",
    "    plt.ylabel('Marks obtained/Leafs')\n",
    "    plt.stem(stems, my_data[my_data.columns[0]],use_line_collection=True)\n",
    "    plt.grid(True)\n",
    "    plt.show()\n",
    "    \n",
    "    stemgraphic.stem_graphic(my_data[my_data.columns[0]], scale = 10)\n",
    "\n",
    "def create_histogram(my_data,frequency_table):\n",
    "    \n",
    "    steam_leaf = Markdown(\"### Histogram Plot\")\n",
    "    markdown_tuple = steam_leaf,\n",
    "    display_markdown(markdown_tuple)\n",
    "    \n",
    "    plt.figure(figsize=(7,7))\n",
    "    plt.hist(my_data.iloc[:,0] ,facecolor='g', alpha=0.75)\n",
    "    plt.xlabel(\"class_number\")\n",
    "    plt.ylabel(\"frequency\")\n",
    "    plt.title(\"histogram\")\n",
    "    plt.grid(True)\n",
    "    plt.show()\n",
    "    \n",
    "    \n",
    "def graphs_of_data_markdown(my_data,frequency_table):\n",
    "    \n",
    "    create_boxplot(my_data)\n",
    "    #create_scatter(frequency_table)\n",
    "    create_histogram(my_data,frequency_table)\n",
    "    create_steam_leaf(my_data)"
   ]
  },
  {
   "cell_type": "code",
   "execution_count": 12,
   "metadata": {},
   "outputs": [],
   "source": [
    "def data_description_markdown(my_data):\n",
    "    \n",
    "    markdown_tuple = Markdown(\"# DATA DESCRIPTION\"),Markdown(\"\"\"\n",
    "    {}\n",
    "    * MODE OF DATA : \n",
    "    {} \\n\n",
    "    * SKEWNESS COEFFICIENT OF DATA : \n",
    "    {} \n",
    "    * KURTOSIS COEFFICIENT OF DATA : \n",
    "    {} \\n\\n\n",
    "    \"\"\".format(my_data.describe(),\n",
    "               my_data.mode(),\n",
    "               my_data.skew(axis = 0, skipna = True),\n",
    "               my_data.kurt(axis=0)\n",
    "              ))\n",
    "    display_markdown(markdown_tuple)\n",
    "    data_description_markdown_2(my_data)\n",
    "    \n",
    "def data_description_markdown_2(my_data):\n",
    "    \n",
    "    mode = my_data.mode()[my_data.columns[0]].values[0]\n",
    "    mean = my_data.mean()[my_data.columns[0]]\n",
    "    max_val = my_data.max()[my_data.columns[0]]\n",
    "    min_val = my_data.min()[my_data.columns[0]]\n",
    "    range_val = max_val - min_val\n",
    "    first_quartile = my_data.iloc[:,0].quantile([0.25,0.5,0.75]).values[0]\n",
    "    second_quartile = my_data.iloc[:,0].quantile([0.25,0.5,0.75]).values[1]\n",
    "    third_quartile = my_data.iloc[:,0].quantile([0.25,0.5,0.75]).values[2]\n",
    "    interquartile_range = float(\"{:.2f}\".format(third_quartile-first_quartile))\n",
    "    kurtosis_coefficient =float(\"{:.2f}\".format(my_data.kurt(axis=0).values[0])) \n",
    "    \n",
    "    if mean < mode :\n",
    "        skewness_md = Markdown(\"* Mean < mode also skewness coefficient is negative so this dataset left-skewed and negatively skewed.\")\n",
    "    elif mean > mode : \n",
    "        skewness_md = Markdown(\"* Mean > mode also skewness coefficient is positive so this dataset right-skewed and positively skewed.\")\n",
    "    else:\n",
    "        skewness_md = Markdown(\"* Mean < mode also skewness coefficient is negative so this dataset normal skewed.\")\n",
    "    \n",
    "    max_min_range_md = Markdown(\"* Max value = {} , min value = {} so range most of values = {}\".format(max_val,min_val,range_val))\n",
    "    fq_md = Markdown(\"* First quartile = {} , it is mean 25% of data less than {}\".format(first_quartile,first_quartile))\n",
    "    sd_md = Markdown(\"* Second quartile = {} also equal median , it is mean 50% of data less than {}\".format(second_quartile,second_quartile))\n",
    "    td_md = Markdown(\"* Third quartile = {} , it is mean 75% of data less than {}\".format(third_quartile,third_quartile))\n",
    "    iq_md = Markdown(\"* Interquartile range = Q3-Q1 = {}-{} = {}\".format(third_quartile,first_quartile,interquartile_range))\n",
    "    \n",
    "    if kurtosis_coefficient < 0:\n",
    "        kurtosis_md = Markdown(\"* Kurtosis coefficient less than zero so this dataset is PLATYKURTIC that flat and spread out\")\n",
    "    elif kurtosis_coefficient > 0:\n",
    "        kurtosis_md = Markdown(\"* Kurtosis coefficient more than zero so this dataset is LEPTOKURTIC that high and thin\")\n",
    "    else:\n",
    "        kurtosis_md = Markdown(\"* Kurtosis coefficient equal so this dataset is MESOKURTIC that normal shape\")\n",
    "        \n",
    "    markdown_tuple = skewness_md,max_min_range_md,fq_md,sd_md,td_md,iq_md,kurtosis_md\n",
    "    display_markdown(markdown_tuple)"
   ]
  },
  {
   "cell_type": "code",
   "execution_count": 17,
   "metadata": {
    "scrolled": false
   },
   "outputs": [
    {
     "name": "stdout",
     "output_type": "stream",
     "text": [
      "Student Number: 21627428\n"
     ]
    },
    {
     "data": {
      "text/markdown": [
       "# INTRODUCTION"
      ],
      "text/plain": [
       "<IPython.core.display.Markdown object>"
      ]
     },
     "metadata": {},
     "output_type": "display_data"
    },
    {
     "data": {
      "text/markdown": [
       "\n",
       "    * Student name : MUHAMMED SAİD KAYA\n",
       "    * Student number : 21627428\n",
       "    * This notebook is for Statistic Homework is done by using Python libraries\n",
       "    "
      ],
      "text/plain": [
       "<IPython.core.display.Markdown object>"
      ]
     },
     "metadata": {},
     "output_type": "display_data"
    },
    {
     "data": {
      "text/markdown": [
       "# DATA DESCRIPTION"
      ],
      "text/plain": [
       "<IPython.core.display.Markdown object>"
      ]
     },
     "metadata": {},
     "output_type": "display_data"
    },
    {
     "data": {
      "text/markdown": [
       "\n",
       "            21627428\n",
       "count  50.000000\n",
       "mean   20.258000\n",
       "std     5.626725\n",
       "min     7.900000\n",
       "25%    16.175000\n",
       "50%    20.400000\n",
       "75%    23.600000\n",
       "max    30.500000\n",
       "    * MODE OF DATA : \n",
       "       21627428\n",
       "0      17.7 \n",
       "\n",
       "    * SKEWNESS COEFFICIENT OF DATA : \n",
       "    21627428   -0.028252\n",
       "dtype: float64 \n",
       "    * KURTOSIS COEFFICIENT OF DATA : \n",
       "    21627428   -0.528056\n",
       "dtype: float64 \n",
       "\n",
       "\n",
       "    "
      ],
      "text/plain": [
       "<IPython.core.display.Markdown object>"
      ]
     },
     "metadata": {},
     "output_type": "display_data"
    },
    {
     "data": {
      "text/markdown": [
       "* Mean > mode also skewness coefficient is positive so this dataset right-skewed and positively skewed."
      ],
      "text/plain": [
       "<IPython.core.display.Markdown object>"
      ]
     },
     "metadata": {},
     "output_type": "display_data"
    },
    {
     "data": {
      "text/markdown": [
       "* Max value = 30.5 , min value = 7.9 so range most of values = 22.6"
      ],
      "text/plain": [
       "<IPython.core.display.Markdown object>"
      ]
     },
     "metadata": {},
     "output_type": "display_data"
    },
    {
     "data": {
      "text/markdown": [
       "* First quartile = 16.175 , it is mean 25% of data less than 16.175"
      ],
      "text/plain": [
       "<IPython.core.display.Markdown object>"
      ]
     },
     "metadata": {},
     "output_type": "display_data"
    },
    {
     "data": {
      "text/markdown": [
       "* Second quartile = 20.4 also equal median , it is mean 50% of data less than 20.4"
      ],
      "text/plain": [
       "<IPython.core.display.Markdown object>"
      ]
     },
     "metadata": {},
     "output_type": "display_data"
    },
    {
     "data": {
      "text/markdown": [
       "* Third quartile = 23.6 , it is mean 75% of data less than 23.6"
      ],
      "text/plain": [
       "<IPython.core.display.Markdown object>"
      ]
     },
     "metadata": {},
     "output_type": "display_data"
    },
    {
     "data": {
      "text/markdown": [
       "* Interquartile range = Q3-Q1 = 23.6-16.175 = 7.43"
      ],
      "text/plain": [
       "<IPython.core.display.Markdown object>"
      ]
     },
     "metadata": {},
     "output_type": "display_data"
    },
    {
     "data": {
      "text/markdown": [
       "* Kurtosis coefficient less than zero so this dataset is PLATYKURTIC that flat and spread out"
      ],
      "text/plain": [
       "<IPython.core.display.Markdown object>"
      ]
     },
     "metadata": {},
     "output_type": "display_data"
    },
    {
     "data": {
      "text/markdown": [
       "# FREQUENCY TABLE CREATING"
      ],
      "text/plain": [
       "<IPython.core.display.Markdown object>"
      ]
     },
     "metadata": {},
     "output_type": "display_data"
    },
    {
     "data": {
      "text/markdown": [
       "\n",
       "    * Maximum value : 30.5\n",
       "    * Minimum value : 7.9\n",
       "    * Range         : 30.5 - 7.9 = 22.6\n",
       "    * Class range   : (range+0.1)/class_number) = (22.6+0.1)/6 = 3.7833333333333337\n",
       "    "
      ],
      "text/plain": [
       "<IPython.core.display.Markdown object>"
      ]
     },
     "metadata": {},
     "output_type": "display_data"
    },
    {
     "name": "stdout",
     "output_type": "stream",
     "text": [
      "   class_number  lower limit  upper limit  class_mean  frequency\n",
      "0             1         7.90        11.58       9.740          3\n",
      "1             2        11.68        15.37      13.525          7\n",
      "2             3        15.47        19.15      17.310         12\n",
      "3             4        19.25        22.93      21.090         10\n",
      "4             5        23.03        26.72      24.875          9\n",
      "5             6        26.82        30.50      28.660          9\n"
     ]
    },
    {
     "data": {
      "text/markdown": [
       "# GRAPHS OF DATA"
      ],
      "text/plain": [
       "<IPython.core.display.Markdown object>"
      ]
     },
     "metadata": {},
     "output_type": "display_data"
    },
    {
     "data": {
      "text/markdown": [
       "### Boxplot"
      ],
      "text/plain": [
       "<IPython.core.display.Markdown object>"
      ]
     },
     "metadata": {},
     "output_type": "display_data"
    },
    {
     "data": {
      "text/markdown": [
       "Seeing below graph , can be said range between Q2 and Q1 is more range between Q3 and Q2 , so again we can say left skewed data."
      ],
      "text/plain": [
       "<IPython.core.display.Markdown object>"
      ]
     },
     "metadata": {},
     "output_type": "display_data"
    },
    {
     "data": {
      "image/png": "[encoded data removed]",
      "text/plain": [
       "<Figure size 504x504 with 1 Axes>"
      ]
     },
     "metadata": {
      "needs_background": "light"
     },
     "output_type": "display_data"
    },
    {
     "data": {
      "text/markdown": [
       "### Histogram Plot"
      ],
      "text/plain": [
       "<IPython.core.display.Markdown object>"
      ]
     },
     "metadata": {},
     "output_type": "display_data"
    },
    {
     "data": {
      "image/png": "[encoded data removed]",
      "text/plain": [
       "<Figure size 504x504 with 1 Axes>"
      ]
     },
     "metadata": {
      "needs_background": "light"
     },
     "output_type": "display_data"
    },
    {
     "data": {
      "text/markdown": [
       "### Steam-leaf Plot"
      ],
      "text/plain": [
       "<IPython.core.display.Markdown object>"
      ]
     },
     "metadata": {},
     "output_type": "display_data"
    },
    {
     "data": {
      "image/png": "[encoded data removed]",
      "text/plain": [
       "<Figure size 504x504 with 1 Axes>"
      ]
     },
     "metadata": {
      "needs_background": "light"
     },
     "output_type": "display_data"
    },
    {
     "data": {
      "image/png": "[encoded data removed]",
      "text/plain": [
       "<Figure size 540x126 with 1 Axes>"
      ]
     },
     "metadata": {
      "needs_background": "light"
     },
     "output_type": "display_data"
    }
   ],
   "source": [
    "student_number = getting_student_number()\n",
    "student_name , my_data = reading_excel_files(\"data.xlsx\",student_number)\n",
    "my_data.columns = [student_number]\n",
    "\n",
    "introduction_markdown(student_number,student_name)\n",
    "data_description_markdown(my_data)\n",
    "frequency_table = frequency_table_markdown(my_data,6)\n",
    "graphs_of_data_markdown(my_data,frequency_table)\n"
   ]
  },
  {
   "cell_type": "code",
   "execution_count": null,
   "metadata": {},
   "outputs": [],
   "source": []
  }
 ],
 "metadata": {
  "kernelspec": {
   "display_name": "Python 3",
   "language": "python",
   "name": "python3"
  },
  "language_info": {
   "codemirror_mode": {
    "name": "ipython",
    "version": 3
   },
   "file_extension": ".py",
   "mimetype": "text/x-python",
   "name": "python",
   "nbconvert_exporter": "python",
   "pygments_lexer": "ipython3",
   "version": "3.8.2"
  }
 },
 "nbformat": 4,
 "nbformat_minor": 4
}
