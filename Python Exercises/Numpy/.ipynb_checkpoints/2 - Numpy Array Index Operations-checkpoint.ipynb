{
 "cells": [
  {
   "cell_type": "markdown",
   "metadata": {},
   "source": [
    "###### IMPORT LIBRARY"
   ]
  },
  {
   "cell_type": "code",
   "execution_count": 1,
   "metadata": {},
   "outputs": [],
   "source": [
    "import numpy as np"
   ]
  },
  {
   "cell_type": "markdown",
   "metadata": {},
   "source": [
    "###### One Dimensional Array"
   ]
  },
  {
   "cell_type": "code",
   "execution_count": 7,
   "metadata": {},
   "outputs": [
    {
     "name": "stdout",
     "output_type": "stream",
     "text": [
      "[ 0  1  4  9 16 25 36 49 64 81]\n",
      "3\n",
      "[3 4 5]\n",
      "0\n",
      "1\n",
      "2\n",
      "3\n",
      "1000\n",
      "5\n",
      "6\n",
      "7\n",
      "8\n",
      "9\n"
     ]
    }
   ],
   "source": [
    "array = np.arange(10)\n",
    "print(array**2)\n",
    "print(array[3])\n",
    "print(array[3:6])\n",
    "array[4] = 1000\n",
    "for i in array:\n",
    "    print(i)"
   ]
  },
  {
   "cell_type": "markdown",
   "metadata": {},
   "source": [
    "###### Two Dimensional Array"
   ]
  },
  {
   "cell_type": "code",
   "execution_count": 14,
   "metadata": {},
   "outputs": [
    {
     "data": {
      "text/plain": [
       "array([0.25465658, 0.32419694, 0.87145992, 0.59002596, 0.84492987,\n",
       "       0.97335408, 0.68328924, 0.3638978 , 0.94912918, 0.4233808 ,\n",
       "       0.41071308, 0.7208176 , 0.17544013, 0.90805344, 0.8042097 ,\n",
       "       0.8972088 ])"
      ]
     },
     "execution_count": 14,
     "metadata": {},
     "output_type": "execute_result"
    }
   ],
   "source": [
    "y = np.random.random(16).reshape(8,2)\n",
    "y.ravel() # one dimensional array form of y"
   ]
  },
  {
   "cell_type": "code",
   "execution_count": 17,
   "metadata": {},
   "outputs": [
    {
     "data": {
      "text/plain": [
       "array([[0.25465658, 0.32419694],\n",
       "       [0.87145992, 0.59002596],\n",
       "       [0.84492987, 0.97335408],\n",
       "       [0.68328924, 0.3638978 ],\n",
       "       [0.94912918, 0.4233808 ],\n",
       "       [0.41071308, 0.7208176 ],\n",
       "       [0.17544013, 0.90805344],\n",
       "       [0.8042097 , 0.8972088 ]])"
      ]
     },
     "execution_count": 17,
     "metadata": {},
     "output_type": "execute_result"
    }
   ],
   "source": [
    "y[:,:] # selecting all rows and columns"
   ]
  },
  {
   "cell_type": "code",
   "execution_count": 18,
   "metadata": {},
   "outputs": [
    {
     "data": {
      "text/plain": [
       "array([0.32419694, 0.59002596])"
      ]
     },
     "execution_count": 18,
     "metadata": {},
     "output_type": "execute_result"
    }
   ],
   "source": [
    "y[0:2,1] # selecting first column of first two rows"
   ]
  },
  {
   "cell_type": "code",
   "execution_count": 19,
   "metadata": {},
   "outputs": [
    {
     "name": "stdout",
     "output_type": "stream",
     "text": [
      "[0.25465658 0.32419694]\n",
      "[0.87145992 0.59002596]\n",
      "[0.84492987 0.97335408]\n",
      "[0.68328924 0.3638978 ]\n",
      "[0.94912918 0.4233808 ]\n",
      "[0.41071308 0.7208176 ]\n",
      "[0.17544013 0.90805344]\n",
      "[0.8042097 0.8972088]\n"
     ]
    }
   ],
   "source": [
    "for row in y:\n",
    "    print(row)"
   ]
  },
  {
   "cell_type": "code",
   "execution_count": 20,
   "metadata": {},
   "outputs": [
    {
     "name": "stdout",
     "output_type": "stream",
     "text": [
      "0.2546565766625689\n",
      "0.32419693961897733\n",
      "0.8714599195746681\n",
      "0.5900259602001756\n",
      "0.8449298726182207\n",
      "0.9733540760655862\n",
      "0.6832892390605835\n",
      "0.36389779951299717\n",
      "0.9491291806986002\n",
      "0.42338080115848153\n",
      "0.4107130802250577\n",
      "0.7208175969917012\n",
      "0.17544012811927945\n",
      "0.9080534370347604\n",
      "0.8042097010932536\n",
      "0.8972087958061572\n"
     ]
    }
   ],
   "source": [
    "for row in y.flat:\n",
    "    print(row)"
   ]
  },
  {
   "cell_type": "code",
   "execution_count": 25,
   "metadata": {},
   "outputs": [
    {
     "name": "stdout",
     "output_type": "stream",
     "text": [
      "((0, 0), 0.2546565766625689)\n",
      "((0, 1), 0.32419693961897733)\n",
      "((1, 0), 0.8714599195746681)\n",
      "((1, 1), 0.5900259602001756)\n",
      "((2, 0), 0.8449298726182207)\n",
      "((2, 1), 0.9733540760655862)\n",
      "((3, 0), 0.6832892390605835)\n",
      "((3, 1), 0.36389779951299717)\n",
      "((4, 0), 0.9491291806986002)\n",
      "((4, 1), 0.42338080115848153)\n",
      "((5, 0), 0.4107130802250577)\n",
      "((5, 1), 0.7208175969917012)\n",
      "((6, 0), 0.17544012811927945)\n",
      "((6, 1), 0.9080534370347604)\n",
      "((7, 0), 0.8042097010932536)\n",
      "((7, 1), 0.8972087958061572)\n"
     ]
    }
   ],
   "source": [
    "for row in np.ndenumerate(y):\n",
    "    print(row) # row[0],row[1] is accesible"
   ]
  },
  {
   "cell_type": "markdown",
   "metadata": {},
   "source": [
    "### Concatenate two same dimensional array vertically"
   ]
  },
  {
   "cell_type": "code",
   "execution_count": 51,
   "metadata": {},
   "outputs": [],
   "source": [
    "a = np.array([[1,2],[3,4]]) # 2 ye 2 array\n",
    "b = np.array([[5,6]]) # 1 e 2 array\n",
    "c = np.array([[5],[6]]) # 2 e 2 array"
   ]
  },
  {
   "cell_type": "markdown",
   "metadata": {},
   "source": [
    "###### First Method"
   ]
  },
  {
   "cell_type": "code",
   "execution_count": 52,
   "metadata": {},
   "outputs": [
    {
     "name": "stdout",
     "output_type": "stream",
     "text": [
      "[[1 2]\n",
      " [3 4]\n",
      " [5 6]]\n",
      "[[1 2]\n",
      " [3 4]\n",
      " [5 6]]\n"
     ]
    }
   ],
   "source": [
    "print(np.concatenate((a,b),axis=0))\n",
    "print(np.concatenate((a,c.T),axis=0))"
   ]
  },
  {
   "cell_type": "markdown",
   "metadata": {},
   "source": [
    "### Second Method"
   ]
  },
  {
   "cell_type": "code",
   "execution_count": 47,
   "metadata": {},
   "outputs": [
    {
     "data": {
      "text/plain": [
       "array([[1., 2.],\n",
       "       [3., 4.],\n",
       "       [1., 0.],\n",
       "       [0., 1.]])"
      ]
     },
     "execution_count": 47,
     "metadata": {},
     "output_type": "execute_result"
    }
   ],
   "source": [
    "np.vstack((a,np.eye(2)))"
   ]
  },
  {
   "cell_type": "markdown",
   "metadata": {},
   "source": [
    "### Concatenate two same dimensional array horizontally"
   ]
  },
  {
   "cell_type": "code",
   "execution_count": null,
   "metadata": {},
   "outputs": [],
   "source": [
    "a = np.array([[1,2],[3,4]]) # 2 ye 2 array\n",
    "b = np.array([[5,6]]) # 1 e 2 array\n",
    "c = np.array([[5],[6]]) # 2 e 2 array"
   ]
  },
  {
   "cell_type": "markdown",
   "metadata": {},
   "source": [
    "###### First Method"
   ]
  },
  {
   "cell_type": "code",
   "execution_count": 49,
   "metadata": {},
   "outputs": [
    {
     "name": "stdout",
     "output_type": "stream",
     "text": [
      "[[1 2 5]\n",
      " [3 4 6]]\n",
      "[[1 2 5]\n",
      " [3 4 6]]\n"
     ]
    }
   ],
   "source": [
    "print(np.concatenate((a,b.T),axis=1))\n",
    "print(np.concatenate((a,c),axis=1))"
   ]
  },
  {
   "cell_type": "markdown",
   "metadata": {},
   "source": [
    "###### Second Method"
   ]
  },
  {
   "cell_type": "code",
   "execution_count": 50,
   "metadata": {},
   "outputs": [
    {
     "data": {
      "text/plain": [
       "array([[1., 2., 1., 0.],\n",
       "       [3., 4., 0., 1.]])"
      ]
     },
     "execution_count": 50,
     "metadata": {},
     "output_type": "execute_result"
    }
   ],
   "source": [
    "np.hstack((a,np.eye(2)))"
   ]
  }
 ],
 "metadata": {
  "kernelspec": {
   "display_name": "Python 3",
   "language": "python",
   "name": "python3"
  },
  "language_info": {
   "codemirror_mode": {
    "name": "ipython",
    "version": 3
   },
   "file_extension": ".py",
   "mimetype": "text/x-python",
   "name": "python",
   "nbconvert_exporter": "python",
   "pygments_lexer": "ipython3",
   "version": "3.8.2"
  }
 },
 "nbformat": 4,
 "nbformat_minor": 4
}
