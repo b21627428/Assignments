{
 "cells": [
  {
   "cell_type": "code",
   "execution_count": 1,
   "metadata": {},
   "outputs": [],
   "source": [
    "import numpy as np"
   ]
  },
  {
   "cell_type": "code",
   "execution_count": 4,
   "metadata": {},
   "outputs": [],
   "source": [
    "a = np.array([20,40,60,80])\n",
    "b = np.arange(4)"
   ]
  },
  {
   "cell_type": "markdown",
   "metadata": {},
   "source": [
    "### Adding Two Arrays "
   ]
  },
  {
   "cell_type": "code",
   "execution_count": 5,
   "metadata": {},
   "outputs": [
    {
     "data": {
      "text/plain": [
       "array([20, 41, 62, 83])"
      ]
     },
     "execution_count": 5,
     "metadata": {},
     "output_type": "execute_result"
    }
   ],
   "source": [
    "a + b"
   ]
  },
  {
   "cell_type": "code",
   "execution_count": 7,
   "metadata": {},
   "outputs": [
    {
     "data": {
      "text/plain": [
       "array([[21., 40.],\n",
       "       [60., 81.]])"
      ]
     },
     "execution_count": 7,
     "metadata": {},
     "output_type": "execute_result"
    }
   ],
   "source": [
    "a.reshape(2,2) + np.eye(2)"
   ]
  },
  {
   "cell_type": "markdown",
   "metadata": {},
   "source": [
    "###### Statistical Operations "
   ]
  },
  {
   "cell_type": "code",
   "execution_count": 67,
   "metadata": {},
   "outputs": [
    {
     "name": "stdout",
     "output_type": "stream",
     "text": [
      "[[ 0  1  2  3  4]\n",
      " [ 5  6  7  8  9]\n",
      " [10 11 12 13 14]]\n"
     ]
    }
   ],
   "source": [
    "b = np .arange(15).reshape(3,5)\n",
    "print(b)"
   ]
  },
  {
   "cell_type": "code",
   "execution_count": 71,
   "metadata": {},
   "outputs": [
    {
     "name": "stdout",
     "output_type": "stream",
     "text": [
      "sum of all elements:105\n",
      "sum of row elements:[10 35 60]\n",
      "sum of column elements:[15 18 21 24 27]\n",
      "shape :(3, 5)\n",
      "median : 7.0\n",
      "standart deviation : 4.320493798938574\n",
      "variance : 18.666666666666668\n",
      "mean : 7.0\n",
      "max of all elements  : 14\n",
      "max of row elements  : \n",
      "[ 4  9 14]\n",
      "min  : 0\n",
      "min of row elements  : \n",
      "[0 1 2 3 4]\n",
      "cumulatif sum of x axis : \n",
      "[[ 0  1  3  6 10]\n",
      " [ 5 11 18 26 35]\n",
      " [10 21 33 46 60]]\n",
      "cumulatif sum of y axis : \n",
      "[[ 0  1  2  3  4]\n",
      " [ 5  7  9 11 13]\n",
      " [15 18 21 24 27]]\n"
     ]
    },
    {
     "data": {
      "text/plain": [
       "array([[False, False, False, False, False],\n",
       "       [False, False, False, False, False],\n",
       "       [False, False, False, False, False]])"
      ]
     },
     "execution_count": 71,
     "metadata": {},
     "output_type": "execute_result"
    }
   ],
   "source": [
    "print(\"sum of all elements:\"+str(b.sum()))\n",
    "print(\"sum of row elements:\"+str(b.sum(axis=1)))\n",
    "print(\"sum of column elements:\"+str(b.sum(axis=0)))\n",
    "print(\"shape :\"+str(b.shape))\n",
    "print(\"median : \"+str(np.median(b)))\n",
    "print(\"standart deviation : \"+str(np.std(b)))\n",
    "print(\"variance : \"+str(np.var(b)))\n",
    "print(\"mean : \"+str(b.mean()))\n",
    "print(\"max of all elements  : \"+str(b.max()))\n",
    "print(\"max of row elements  : \\n\"+str(b.max(axis=1)))\n",
    "print(\"min  : \"+str(b.min()))\n",
    "print(\"min of row elements  : \\n\"+str(b.min(axis=0)))\n",
    "print(\"cumulatif sum of x axis : \\n\"+str(b.cumsum(axis=1))) # cumulatif sum of rows\n",
    "print(\"cumulatif sum of y axis : \\n\"+str(b.cumsum(axis=0))) # cumulatif sum of columns\n",
    "b > 50"
   ]
  },
  {
   "cell_type": "markdown",
   "metadata": {},
   "source": [
    "###### Copy an Array"
   ]
  },
  {
   "cell_type": "code",
   "execution_count": 53,
   "metadata": {},
   "outputs": [],
   "source": [
    "copy = b.copy()"
   ]
  },
  {
   "cell_type": "markdown",
   "metadata": {},
   "source": [
    "###### Unique Elements Selecting"
   ]
  },
  {
   "cell_type": "code",
   "execution_count": 54,
   "metadata": {},
   "outputs": [
    {
     "data": {
      "text/plain": [
       "array(['ankara', 'istanbul', 'kayseri'], dtype='<U8')"
      ]
     },
     "execution_count": 54,
     "metadata": {},
     "output_type": "execute_result"
    }
   ],
   "source": [
    "cities = np.array([\"ankara\",\"istanbul\",\"kayseri\",\"ankara\"])\n",
    "np.unique(cities)"
   ]
  }
 ],
 "metadata": {
  "kernelspec": {
   "display_name": "Python 3",
   "language": "python",
   "name": "python3"
  },
  "language_info": {
   "codemirror_mode": {
    "name": "ipython",
    "version": 3
   },
   "file_extension": ".py",
   "mimetype": "text/x-python",
   "name": "python",
   "nbconvert_exporter": "python",
   "pygments_lexer": "ipython3",
   "version": "3.8.2"
  }
 },
 "nbformat": 4,
 "nbformat_minor": 4
}
